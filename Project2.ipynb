{
 "cells": [
  {
   "cell_type": "code",
   "execution_count": 9,
   "id": "97783bb4-3545-4de0-b654-b373b7148986",
   "metadata": {},
   "outputs": [
    {
     "name": "stdout",
     "output_type": "stream",
     "text": [
      "Collecting scikit-learn\n",
      "  Downloading scikit_learn-1.7.0-cp312-cp312-win_amd64.whl.metadata (14 kB)\n",
      "Requirement already satisfied: numpy>=1.22.0 in c:\\users\\kuruva shankar\\anaconda3\\lib\\site-packages (from scikit-learn) (2.3.1)\n",
      "Collecting scipy>=1.8.0 (from scikit-learn)\n",
      "  Downloading scipy-1.16.0-cp312-cp312-win_amd64.whl.metadata (60 kB)\n",
      "Collecting joblib>=1.2.0 (from scikit-learn)\n",
      "  Using cached joblib-1.5.1-py3-none-any.whl.metadata (5.6 kB)\n",
      "Collecting threadpoolctl>=3.1.0 (from scikit-learn)\n",
      "  Using cached threadpoolctl-3.6.0-py3-none-any.whl.metadata (13 kB)\n",
      "Downloading scikit_learn-1.7.0-cp312-cp312-win_amd64.whl (10.7 MB)\n",
      "   ---------------------------------------- 0.0/10.7 MB ? eta -:--:--\n",
      "   - -------------------------------------- 0.5/10.7 MB 5.6 MB/s eta 0:00:02\n",
      "   --- ------------------------------------ 1.0/10.7 MB 2.6 MB/s eta 0:00:04\n",
      "   ---- ----------------------------------- 1.3/10.7 MB 3.0 MB/s eta 0:00:04\n",
      "   ----- ---------------------------------- 1.6/10.7 MB 2.0 MB/s eta 0:00:05\n",
      "   ------ --------------------------------- 1.8/10.7 MB 1.8 MB/s eta 0:00:05\n",
      "   ---------- ----------------------------- 2.9/10.7 MB 2.5 MB/s eta 0:00:04\n",
      "   ----------- ---------------------------- 3.1/10.7 MB 2.3 MB/s eta 0:00:04\n",
      "   -------------- ------------------------- 3.9/10.7 MB 2.4 MB/s eta 0:00:03\n",
      "   --------------- ------------------------ 4.2/10.7 MB 2.3 MB/s eta 0:00:03\n",
      "   ----------------- ---------------------- 4.7/10.7 MB 2.4 MB/s eta 0:00:03\n",
      "   ------------------- -------------------- 5.2/10.7 MB 2.3 MB/s eta 0:00:03\n",
      "   --------------------- ------------------ 5.8/10.7 MB 2.4 MB/s eta 0:00:03\n",
      "   ----------------------- ---------------- 6.3/10.7 MB 2.4 MB/s eta 0:00:02\n",
      "   ------------------------- -------------- 6.8/10.7 MB 2.4 MB/s eta 0:00:02\n",
      "   --------------------------- ------------ 7.3/10.7 MB 2.4 MB/s eta 0:00:02\n",
      "   ----------------------------- ---------- 7.9/10.7 MB 2.4 MB/s eta 0:00:02\n",
      "   ------------------------------- -------- 8.4/10.7 MB 2.4 MB/s eta 0:00:01\n",
      "   --------------------------------- ------ 8.9/10.7 MB 2.4 MB/s eta 0:00:01\n",
      "   ----------------------------------- ---- 9.4/10.7 MB 2.4 MB/s eta 0:00:01\n",
      "   ------------------------------------- -- 10.0/10.7 MB 2.4 MB/s eta 0:00:01\n",
      "   -------------------------------------- - 10.2/10.7 MB 2.4 MB/s eta 0:00:01\n",
      "   ---------------------------------------- 10.7/10.7 MB 2.3 MB/s eta 0:00:00\n",
      "Using cached joblib-1.5.1-py3-none-any.whl (307 kB)\n",
      "Downloading scipy-1.16.0-cp312-cp312-win_amd64.whl (38.4 MB)\n",
      "   ---------------------------------------- 0.0/38.4 MB ? eta -:--:--\n",
      "    --------------------------------------- 0.5/38.4 MB 3.4 MB/s eta 0:00:12\n",
      "    --------------------------------------- 0.8/38.4 MB 3.4 MB/s eta 0:00:12\n",
      "   - -------------------------------------- 1.3/38.4 MB 2.1 MB/s eta 0:00:18\n",
      "   - -------------------------------------- 1.6/38.4 MB 2.0 MB/s eta 0:00:19\n",
      "   -- ------------------------------------- 2.6/38.4 MB 2.6 MB/s eta 0:00:14\n",
      "   --- ------------------------------------ 3.1/38.4 MB 2.5 MB/s eta 0:00:14\n",
      "   --- ------------------------------------ 3.7/38.4 MB 2.5 MB/s eta 0:00:14\n",
      "   ---- ----------------------------------- 4.2/38.4 MB 2.5 MB/s eta 0:00:14\n",
      "   ---- ----------------------------------- 4.7/38.4 MB 2.5 MB/s eta 0:00:14\n",
      "   ----- ---------------------------------- 5.2/38.4 MB 2.5 MB/s eta 0:00:14\n",
      "   ----- ---------------------------------- 5.5/38.4 MB 2.4 MB/s eta 0:00:14\n",
      "   ------ --------------------------------- 6.0/38.4 MB 2.4 MB/s eta 0:00:14\n",
      "   ------ --------------------------------- 6.6/38.4 MB 2.4 MB/s eta 0:00:14\n",
      "   ------- -------------------------------- 7.1/38.4 MB 2.4 MB/s eta 0:00:14\n",
      "   ------- -------------------------------- 7.6/38.4 MB 2.4 MB/s eta 0:00:13\n",
      "   -------- ------------------------------- 8.1/38.4 MB 2.4 MB/s eta 0:00:13\n",
      "   --------- ------------------------------ 8.7/38.4 MB 2.4 MB/s eta 0:00:13\n",
      "   --------- ------------------------------ 9.2/38.4 MB 2.4 MB/s eta 0:00:13\n",
      "   ---------- ----------------------------- 9.7/38.4 MB 2.4 MB/s eta 0:00:12\n",
      "   ---------- ----------------------------- 10.0/38.4 MB 2.4 MB/s eta 0:00:12\n",
      "   ---------- ----------------------------- 10.5/38.4 MB 2.3 MB/s eta 0:00:13\n",
      "   ----------- ---------------------------- 11.0/38.4 MB 2.4 MB/s eta 0:00:12\n",
      "   ------------ --------------------------- 11.8/38.4 MB 2.4 MB/s eta 0:00:12\n",
      "   ------------ --------------------------- 12.3/38.4 MB 2.4 MB/s eta 0:00:11\n",
      "   ------------- -------------------------- 12.8/38.4 MB 2.4 MB/s eta 0:00:11\n",
      "   ------------- -------------------------- 13.4/38.4 MB 2.4 MB/s eta 0:00:11\n",
      "   -------------- ------------------------- 13.9/38.4 MB 2.4 MB/s eta 0:00:11\n",
      "   --------------- ------------------------ 14.4/38.4 MB 2.4 MB/s eta 0:00:10\n",
      "   --------------- ------------------------ 14.7/38.4 MB 2.4 MB/s eta 0:00:10\n",
      "   --------------- ------------------------ 15.2/38.4 MB 2.4 MB/s eta 0:00:10\n",
      "   ---------------- ----------------------- 15.7/38.4 MB 2.4 MB/s eta 0:00:10\n",
      "   ---------------- ----------------------- 16.3/38.4 MB 2.4 MB/s eta 0:00:10\n",
      "   ----------------- ---------------------- 16.8/38.4 MB 2.4 MB/s eta 0:00:10\n",
      "   ------------------ --------------------- 17.3/38.4 MB 2.4 MB/s eta 0:00:09\n",
      "   ------------------ --------------------- 17.8/38.4 MB 2.4 MB/s eta 0:00:09\n",
      "   ------------------- -------------------- 18.4/38.4 MB 2.4 MB/s eta 0:00:09\n",
      "   ------------------- -------------------- 18.9/38.4 MB 2.4 MB/s eta 0:00:09\n",
      "   -------------------- ------------------- 19.4/38.4 MB 2.4 MB/s eta 0:00:08\n",
      "   -------------------- ------------------- 19.9/38.4 MB 2.4 MB/s eta 0:00:08\n",
      "   --------------------- ------------------ 20.4/38.4 MB 2.4 MB/s eta 0:00:08\n",
      "   --------------------- ------------------ 21.0/38.4 MB 2.4 MB/s eta 0:00:08\n",
      "   ---------------------- ----------------- 21.5/38.4 MB 2.4 MB/s eta 0:00:08\n",
      "   ---------------------- ----------------- 22.0/38.4 MB 2.4 MB/s eta 0:00:07\n",
      "   ----------------------- ---------------- 22.5/38.4 MB 2.4 MB/s eta 0:00:07\n",
      "   ----------------------- ---------------- 22.8/38.4 MB 2.4 MB/s eta 0:00:07\n",
      "   ------------------------ --------------- 23.6/38.4 MB 2.4 MB/s eta 0:00:07\n",
      "   ------------------------ --------------- 23.9/38.4 MB 2.4 MB/s eta 0:00:07\n",
      "   ------------------------- -------------- 24.4/38.4 MB 2.4 MB/s eta 0:00:06\n",
      "   ------------------------- -------------- 24.9/38.4 MB 2.4 MB/s eta 0:00:06\n",
      "   -------------------------- ------------- 25.4/38.4 MB 2.4 MB/s eta 0:00:06\n",
      "   --------------------------- ------------ 26.0/38.4 MB 2.4 MB/s eta 0:00:06\n",
      "   --------------------------- ------------ 26.5/38.4 MB 2.4 MB/s eta 0:00:05\n",
      "   ---------------------------- ----------- 27.0/38.4 MB 2.4 MB/s eta 0:00:05\n",
      "   ---------------------------- ----------- 27.5/38.4 MB 2.4 MB/s eta 0:00:05\n",
      "   ----------------------------- ---------- 28.0/38.4 MB 2.4 MB/s eta 0:00:05\n",
      "   ----------------------------- ---------- 28.3/38.4 MB 2.4 MB/s eta 0:00:05\n",
      "   ------------------------------ --------- 28.8/38.4 MB 2.4 MB/s eta 0:00:05\n",
      "   ------------------------------ --------- 29.4/38.4 MB 2.4 MB/s eta 0:00:04\n",
      "   ------------------------------- -------- 29.9/38.4 MB 2.4 MB/s eta 0:00:04\n",
      "   ------------------------------- -------- 30.4/38.4 MB 2.4 MB/s eta 0:00:04\n",
      "   -------------------------------- ------- 30.9/38.4 MB 2.4 MB/s eta 0:00:04\n",
      "   -------------------------------- ------- 31.5/38.4 MB 2.4 MB/s eta 0:00:03\n",
      "   -------------------------------- ------- 31.5/38.4 MB 2.4 MB/s eta 0:00:03\n",
      "   --------------------------------- ------ 32.0/38.4 MB 2.3 MB/s eta 0:00:03\n",
      "   ---------------------------------- ----- 32.8/38.4 MB 2.4 MB/s eta 0:00:03\n",
      "   ---------------------------------- ----- 33.0/38.4 MB 2.4 MB/s eta 0:00:03\n",
      "   ---------------------------------- ----- 33.3/38.4 MB 2.4 MB/s eta 0:00:03\n",
      "   ----------------------------------- ---- 33.8/38.4 MB 2.3 MB/s eta 0:00:02\n",
      "   ------------------------------------ --- 34.6/38.4 MB 2.4 MB/s eta 0:00:02\n",
      "   ------------------------------------ --- 35.1/38.4 MB 2.4 MB/s eta 0:00:02\n",
      "   ------------------------------------- -- 35.7/38.4 MB 2.4 MB/s eta 0:00:02\n",
      "   ------------------------------------- -- 36.2/38.4 MB 2.4 MB/s eta 0:00:01\n",
      "   -------------------------------------- - 36.7/38.4 MB 2.4 MB/s eta 0:00:01\n",
      "   -------------------------------------- - 37.2/38.4 MB 2.4 MB/s eta 0:00:01\n",
      "   ---------------------------------------  37.7/38.4 MB 2.4 MB/s eta 0:00:01\n",
      "   ---------------------------------------  38.3/38.4 MB 2.4 MB/s eta 0:00:01\n",
      "   ---------------------------------------- 38.4/38.4 MB 2.4 MB/s eta 0:00:00\n",
      "Using cached threadpoolctl-3.6.0-py3-none-any.whl (18 kB)\n",
      "Installing collected packages: threadpoolctl, scipy, joblib, scikit-learn\n",
      "Successfully installed joblib-1.5.1 scikit-learn-1.7.0 scipy-1.16.0 threadpoolctl-3.6.0\n",
      "Note: you may need to restart the kernel to use updated packages.\n"
     ]
    }
   ],
   "source": [
    "pip install scikit-learn"
   ]
  },
  {
   "cell_type": "code",
   "execution_count": 13,
   "id": "c02f0ab3-2203-4935-bbfa-41bedf083d62",
   "metadata": {},
   "outputs": [],
   "source": [
    "import pandas as pd\n",
    "from sklearn.metrics.pairwise import cosine_similarity\n",
    "from scipy.sparse import csr_matrix\n",
    "\n",
    "# Load data\n",
    "ratings_cols = ['user_id', 'movie_id', 'rating', 'timestamp']\n",
    "movies_cols = ['movie_id', 'title', 'release_date', 'video_release_date', 'IMDb_URL',\n",
    "               'unknown', 'Action', 'Adventure', 'Animation', \"Children's\", 'Comedy', 'Crime',\n",
    "               'Documentary', 'Drama', 'Fantasy', 'Film-Noir', 'Horror', 'Musical', 'Mystery',\n",
    "               'Romance', 'Sci-Fi', 'Thriller', 'War', 'Western']\n",
    "\n",
    "ratings_df = pd.read_csv(\"u.data\", sep='\\t', names=ratings_cols, encoding='latin-1')\n",
    "movies_df = pd.read_csv(\"u.item\", sep='|', names=movies_cols, encoding='latin-1')\n",
    "\n",
    "# Merge datasets\n",
    "merged_df = pd.merge(ratings_df, movies_df[['movie_id', 'title']], on='movie_id')\n",
    "\n",
    "# EDA\n",
    "ratings_summary = merged_df.groupby('title').agg(\n",
    "    average_rating=('rating', 'mean'),\n",
    "    num_ratings=('rating', 'count')\n",
    ").reset_index()\n",
    "\n",
    "# User-item matrix\n",
    "user_movie_matrix = merged_df.pivot_table(index='user_id', columns='title', values='rating').fillna(0)\n",
    "\n",
    "# Similarity matrix\n",
    "sparse_matrix = csr_matrix(user_movie_matrix.values)\n",
    "movie_similarity = cosine_similarity(sparse_matrix.T)\n",
    "similarity_df = pd.DataFrame(movie_similarity, index=user_movie_matrix.columns, columns=user_movie_matrix.columns)\n",
    "\n",
    "# Recommend movies\n",
    "def recommend_movies(movie_name, num_recommendations=5):\n",
    "    if movie_name not in similarity_df:\n",
    "        return f\"Movie '{movie_name}' not found.\"\n",
    "    similar_scores = similarity_df[movie_name].sort_values(ascending=False)[1:num_recommendations+1]\n",
    "    return similar_scores\n",
    "         "
   ]
  },
  {
   "cell_type": "code",
   "execution_count": 14,
   "id": "77775b2c-cbd0-4f4c-ace9-ae497b407358",
   "metadata": {},
   "outputs": [
    {
     "data": {
      "text/plain": [
       "title\n",
       "Return of the Jedi (1983)          0.884476\n",
       "Raiders of the Lost Ark (1981)     0.764885\n",
       "Empire Strikes Back, The (1980)    0.749819\n",
       "Toy Story (1995)                   0.734572\n",
       "Godfather, The (1972)              0.697332\n",
       "Name: Star Wars (1977), dtype: float64"
      ]
     },
     "execution_count": 14,
     "metadata": {},
     "output_type": "execute_result"
    }
   ],
   "source": [
    "recommend_movies(\"Star Wars (1977)\")"
   ]
  },
  {
   "cell_type": "code",
   "execution_count": 16,
   "id": "f3c8545f-9edc-4f60-8e9e-fcc6396db488",
   "metadata": {},
   "outputs": [],
   "source": [
    "# Export for Power BI\n",
    "merged_df[['user_id', 'title', 'rating']].to_csv(\"merged_movie_ratings.csv\", index=False)\n",
    "ratings_summary.to_csv(\"movie_summary.csv\", index=False)\n"
   ]
  },
  {
   "cell_type": "code",
   "execution_count": 18,
   "id": "a8f1786e-9004-46f4-b80f-62f8ab1fc6ca",
   "metadata": {},
   "outputs": [
    {
     "name": "stdout",
     "output_type": "stream",
     "text": [
      "['.anaconda', '.android', '.conda', '.condarc', '.continuum', '.idlerc', '.ipynb_checkpoints', '.ipython', '.jupyter', '.opera', '.vscode', '1.py', '12.jpynb', 'anaconda3', 'ANJU.ipynb', 'AppData', 'Application Data', 'Contacts', 'Cookies', 'Documents', 'Downloads', 'Favorites', 'Links', 'Local Settings', 'merged_movie_ratings.csv', 'Microsoft', 'movie_summary.csv', 'Music', 'My Documents', 'NetHood', 'NTUSER.DAT', 'ntuser.dat.LOG1', 'ntuser.dat.LOG2', 'NTUSER.DAT{31fec68c-032d-11f0-96aa-98b52715dc39}.TM.blf', 'NTUSER.DAT{31fec68c-032d-11f0-96aa-98b52715dc39}.TMContainer00000000000000000001.regtrans-ms', 'NTUSER.DAT{31fec68c-032d-11f0-96aa-98b52715dc39}.TMContainer00000000000000000002.regtrans-ms', 'ntuser.ini', 'OneDrive', 'PrintHood', 'Project2.ipynb', 'Recent', 'Saved Games', 'Searches', 'SendTo', 'Start Menu', 'student.db', 'Templates', 'u.data', 'u.item', 'Untitled.ipynb', 'Untitled1.ipynb', 'Videos', 'WPS Cloud Files']\n"
     ]
    }
   ],
   "source": [
    "import os\n",
    "\n",
    "# List files in current folder\n",
    "print(os.listdir())\n"
   ]
  },
  {
   "cell_type": "code",
   "execution_count": 20,
   "id": "7363d9ee-b243-481b-ac24-77dc5dc51d94",
   "metadata": {},
   "outputs": [
    {
     "name": "stdout",
     "output_type": "stream",
     "text": [
      "['merged_movie_ratings.csv', 'movie_summary.csv']\n"
     ]
    }
   ],
   "source": [
    " print(['merged_movie_ratings.csv', 'movie_summary.csv'])"
   ]
  },
  {
   "cell_type": "code",
   "execution_count": null,
   "id": "26585600-4789-475c-b412-328ae612d8ad",
   "metadata": {},
   "outputs": [],
   "source": []
  }
 ],
 "metadata": {
  "kernelspec": {
   "display_name": "Python 3 (ipykernel)",
   "language": "python",
   "name": "python3"
  },
  "language_info": {
   "codemirror_mode": {
    "name": "ipython",
    "version": 3
   },
   "file_extension": ".py",
   "mimetype": "text/x-python",
   "name": "python",
   "nbconvert_exporter": "python",
   "pygments_lexer": "ipython3",
   "version": "3.12.7"
  }
 },
 "nbformat": 4,
 "nbformat_minor": 5
}
